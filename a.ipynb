{
 "cells": [
  {
   "cell_type": "code",
   "execution_count": 11,
   "metadata": {},
   "outputs": [
    {
     "name": "stdout",
     "output_type": "stream",
     "text": [
      "0               1.6- אין הסבר איך משיגים את first וlast\n",
      "1                             1.2- ההדפסה לא כמו בתמונה\n",
      "2     1.6-אין תיאור איך משיגים את שתי הספרות האלו וא...\n",
      "3                                                   NaN\n",
      "4     1.6-אין תיאור איך משיגים את שתי הספרות האלו וא...\n",
      "5                                     רק אחד צריך להגיש\n",
      "6                                1.6-left_d = n/10 * 10\n",
      "7                                                   NaN\n",
      "8                                         1.6-אין פתרון\n",
      "9     פורמט הגשה- אתם מתבקשים לצרף את כל קבצי ה.c ,א...\n",
      "10                                                  NaN\n",
      "11                                                  NaN\n",
      "12                                                  NaN\n",
      "13                                                  NaN\n",
      "14    אין הסבר איך משיגים את שתי הספרות-1.6. 1.4-התש...\n",
      "15          1.6-אין תיאור איך משיגים את שתי הספרות האלו\n",
      "16    אמורים להגיש את המטלות בזוגות, אלא אם כן יש אי...\n",
      "17    1.6-אין תיאור איך משיגים את שתי הספרות האלו וא...\n",
      "18                                                  NaN\n",
      "19                                                  NaN\n",
      "20                                      1.אין 2 משפטים.\n",
      "21                אין הסבר איך משיגים את שתי הספרות-1.6\n",
      "22                                                  NaN\n",
      "23    6-התרשים אינו מובן. לא מצויין דרך איך להשיג את...\n",
      "24                                    אין צורך במשתנה B\n",
      "25                                 אין צורך במשתנה sign\n",
      "26    לא מובן למה מחזירים num=num. אם המספר הוא 56 ל...\n",
      "27                                                  NaN\n",
      "28                 בבקשה להימנע משמות משתנים כמו asarot\n",
      "29    6-אין צורך לפצל לשני לא. בתרשים יש לתרחיש 2 מק...\n",
      "30    צריך לקבל אישור מהמרצה אם רוצים להגיש לבד. שאל...\n",
      "31       שאלה 6-לא ברור מה עושה הלולאה ומה קורה למשתנים\n",
      "32                                                  NaN\n",
      "33    פורמט הגשה- צריך להגיש בוורד את הקוד עצמו לא ב...\n",
      "34    שאלה 6- יש חזרה על התנאים אם המספר שלילי, אין ...\n",
      "35                                                  NaN\n",
      "36    שאלה 6- לא ברור למה מחסרים או מחלקים כדי להשיג...\n",
      "37                                                  NaN\n",
      "38                                                  NaN\n",
      "39                                                  NaN\n",
      "40                                                  NaN\n",
      "Name: ex1_comments, dtype: object\n"
     ]
    }
   ],
   "source": [
    "import pandas as pd\n",
    "\n",
    "df = pd.read_excel('C:\\\\Users\\\\liavc\\\\OneDrive\\\\מסמכים\\\\בדיקת מטלות\\\\C\\\\מדמח\\\\grades.xlsx')\n",
    "\n",
    "# print(df['students'])\n",
    "# print(df['ex1'])\n",
    "print(df['ex1_comments'])\n",
    "\n",
    "\n",
    "# for _, data in df.iterrows():\n",
    "#     print(data)"
   ]
  }
 ],
 "metadata": {
  "kernelspec": {
   "display_name": "Python 3",
   "language": "python",
   "name": "python3"
  },
  "language_info": {
   "codemirror_mode": {
    "name": "ipython",
    "version": 3
   },
   "file_extension": ".py",
   "mimetype": "text/x-python",
   "name": "python",
   "nbconvert_exporter": "python",
   "pygments_lexer": "ipython3",
   "version": "3.9.6"
  }
 },
 "nbformat": 4,
 "nbformat_minor": 2
}
